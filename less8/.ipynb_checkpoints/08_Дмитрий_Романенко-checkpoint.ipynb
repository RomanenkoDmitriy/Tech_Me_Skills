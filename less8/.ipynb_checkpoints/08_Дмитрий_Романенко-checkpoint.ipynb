{
 "cells": [
  {
   "cell_type": "raw",
   "source": [
    "Декодировать в строку байтовое значение: b'r\\xc3\\xa9sum\\xc3\\xa9'. Затем резултат преодразовать в \n",
    "байтовый вид в кодировке ‘Latin1’ затем резустат снова декодируем в строку (резултат всех преобразований выводить \n",
    "на экран) "
   ],
   "metadata": {
    "collapsed": false
   },
   "id": "af1ce32988f141f3"
  },
  {
   "cell_type": "code",
   "execution_count": null,
   "outputs": [],
   "source": [
    "string = b\"r\\xc3\\xa9sum\\xc3\\xa9\""
   ],
   "metadata": {
    "collapsed": false
   },
   "id": "7c2f55c38811400c"
  }
 ],
 "metadata": {
  "kernelspec": {
   "display_name": "",
   "name": ""
  },
  "language_info": {
   "name": ""
  }
 },
 "nbformat": 4,
 "nbformat_minor": 5
}
