{
 "cells": [
  {
   "cell_type": "raw",
   "id": "b1e9def542b3595e",
   "metadata": {
    "collapsed": false
   },
   "source": [
    "Декодировать в строку байтовое значение: b'r\\xc3\\xa9sum\\xc3\\xa9'. Затем резултат преодразовать в \n",
    "байтовый вид в кодировке ‘Latin1’ затем резустат снова декодируем в строку (резултат всех преобразований выводить \n",
    "на экран) "
   ]
  },
  {
   "cell_type": "code",
   "execution_count": 1,
   "id": "3833f972245f6a1b",
   "metadata": {
    "ExecuteTime": {
     "end_time": "2023-11-14T17:32:12.478043Z",
     "start_time": "2023-11-14T17:32:12.433251645Z"
    },
    "collapsed": false
   },
   "outputs": [
    {
     "name": "stdout",
     "output_type": "stream",
     "text": [
      "résumé\n",
      "b'r\\xe9sum\\xe9'\n",
      "résumé\n"
     ]
    }
   ],
   "source": [
    "string = b\"r\\xc3\\xa9sum\\xc3\\xa9\"\n",
    "string = string.decode(\"utf-8\")\n",
    "print(string)\n",
    "string = string.encode(\"Latin1\")\n",
    "print(string)\n",
    "string = string.decode(\"latin1\")\n",
    "print(string)"
   ]
  },
  {
   "cell_type": "raw",
   "source": [
    "Ввести с клавиатуры 4 разные строки и сохранить их в 4 разных переменных.\n",
    "Создать файл и записать в него первые 2 строки и закрыть файл.затем открыть файл на редоктирование и \n",
    "дозаписать оставшиеся 2 строки. В файле должны быть 4 строки, каждая на отдельной строке."
   ],
   "metadata": {
    "collapsed": false
   },
   "id": "17ff294214ea3030"
  },
  {
   "cell_type": "code",
   "execution_count": null,
   "outputs": [],
   "source": [
    "str1 = \"Я помню чудное мгновенье:\\n\"\n",
    "str2 = \"Передо мной явилась ты,\\n\"\n",
    "str3 = \"Как мимолётное виденье\\n\"\n",
    "str4 = \"Как гений чистой красоты.\"\n",
    "\n",
    "with open(\"quatrain.txt\", \"w\", encoding=\"utf-8\", newline=\"\\n\") as file:\n",
    "    file.write(str1)\n",
    "    file.write(str2)\n",
    "\n",
    "with open(\"quatrain.txt\", \"a\", encoding=\"utf=8\", newline=\"\\n\") as file:\n",
    "    file.write(str3)\n",
    "    file.write(str4)"
   ],
   "metadata": {
    "collapsed": false
   },
   "id": "7d819e81b7b5ee8d"
  },
  {
   "cell_type": "raw",
   "source": [
    "Создать словарь в качестве ключа которого будет 6-ти значное число (id),\n",
    "а в качестве значений кортеж состоящий из 2-х елементов - имя(str), \n",
    "возраст(int).Создать около 5-6 елементов словаря. Записать данный словарь\n",
    "на диск и json-файл."
   ],
   "metadata": {
    "collapsed": false
   },
   "id": "d76c176fd6e5ac37"
  },
  {
   "cell_type": "code",
   "execution_count": 1,
   "outputs": [],
   "source": [
    "import json\n",
    "\n",
    "person = {111111: (\"Ivan\", 20),\n",
    "          222222: (\"Ira\",19),\n",
    "          333333: (\"Vova\", 40),\n",
    "          444444: (\"Nina\", 38),\n",
    "          555555: (\"Igor\", 15)}\n",
    "\n",
    "with open(\"person.json\", \"w\") as file:\n",
    "    json.dump(person, file, ensure_ascii=False, indent=4)\n"
   ],
   "metadata": {
    "collapsed": false,
    "ExecuteTime": {
     "end_time": "2023-11-14T18:17:49.275558904Z",
     "start_time": "2023-11-14T18:17:49.264394660Z"
    }
   },
   "id": "3bb3084ec36610be"
  },
  {
   "cell_type": "raw",
   "source": [
    "Прочитать сохраненный json-файл и записать данные на диск в csv-файл \n",
    "первой\n",
    "строкой которого озаглавив каждый столбец и добавив столбец \"телефон\"."
   ],
   "metadata": {
    "collapsed": false
   },
   "id": "96ea919cd1a16a1f"
  },
  {
   "cell_type": "code",
   "execution_count": null,
   "outputs": [],
   "source": [
    "import csv\n",
    "\n",
    "with open(\"person.json\", \"r\") as file_json:\n",
    "    person = json.load(file_json)\n",
    "\n",
    "person_phone = [99999999, 88888888, 77777777, 66666666, 55555555]\n",
    "list_person = []\n",
    "c = 1\n",
    "for k, v in person.items():\n",
    "    list_person.append({f\"person{c}\": {\"id\": k, v[0]: v[1], \"phone\": person_phone[c - 1]}})\n",
    "    c += 1\n",
    "print(list_person)\n",
    "\n",
    "\n",
    "with open(\"person.csv\", \"a\") as file_csv:\n",
    "    for person in list_person:\n",
    "\n",
    "        fild_name = person.keys()\n",
    "        writer = csv.DictWriter(file_csv, fieldnames=fild_name)\n",
    "        writer.writeheader()\n",
    "        writer.writerow(person)\n"
   ],
   "metadata": {
    "collapsed": false
   },
   "id": "90f82f565bd2cef9"
  },
  {
   "cell_type": "raw",
   "source": [
    "Прочитать созраненный csv-файл и сохранить данные ы excel- файл, \n",
    "кроме возроста - столбец с этими данными не нужен.\n",
    "Таблица должна выглядетьб как на примере."
   ],
   "metadata": {
    "collapsed": false
   },
   "id": "aaa5e6144d2129a4"
  },
  {
   "cell_type": "code",
   "execution_count": null,
   "outputs": [],
   "source": [
    "from openpyxl import Workbook, load_workbook\n",
    "\n",
    "csv_person = []\n",
    "\n",
    "with open(\"person.csv\", \"r\") as f:\n",
    "    fieldnames = [\"id\", \"name\", \"age\", \"phone\"]\n",
    "    per = csv.DictReader(f, fieldnames=fieldnames)\n",
    "    for i in per:\n",
    "        csv_person.append(i)\n",
    "\n",
    "print(csv_person)\n",
    "wb = Workbook()\n",
    "ws = wb.active\n",
    "\n",
    "ws[\"B1\"] = \"person1\"\n",
    "ws[\"C1\"] = \"person2\"\n",
    "ws[\"D1\"] = \"person3\"\n",
    "ws[\"E1\"] = \"person4\"\n",
    "ws[\"F1\"] = \"person5\"\n",
    "\n",
    "ws[\"A2\"] = \"id\"\n",
    "ws[\"A3\"] = \"name\"\n",
    "ws[\"A4\"] = \"phone\"\n",
    "\n",
    "ws[\"B2\"] = csv_person[0][\"id\"]\n",
    "ws[\"C2\"] = csv_person[1][\"id\"]\n",
    "ws[\"D2\"] = csv_person[2][\"id\"]\n",
    "ws[\"E2\"] = csv_person[3][\"id\"]\n",
    "ws[\"F2\"] = csv_person[4][\"id\"]\n",
    "\n",
    "ws[\"B3\"] = csv_person[0][\"name\"]\n",
    "ws[\"C3\"] = csv_person[1][\"name\"]\n",
    "ws[\"D3\"] = csv_person[2][\"name\"]\n",
    "ws[\"E3\"] = csv_person[3][\"name\"]\n",
    "ws[\"F3\"] = csv_person[4][\"name\"]\n",
    "\n",
    "ws[\"B4\"] = csv_person[0][\"phone\"]\n",
    "ws[\"C4\"] = csv_person[1][\"phone\"]\n",
    "ws[\"D4\"] = csv_person[2][\"phone\"]\n",
    "ws[\"E4\"] = csv_person[3][\"phone\"]\n",
    "ws[\"F4\"] = csv_person[4][\"phone\"]\n",
    "\n",
    "wb.save(\"persons.xlsx\")"
   ],
   "metadata": {
    "collapsed": false
   },
   "id": "f284599cde57e592"
  }
 ],
 "metadata": {
  "kernelspec": {
   "display_name": "Python 3 (ipykernel)",
   "language": "python",
   "name": "python3"
  },
  "language_info": {
   "codemirror_mode": {
    "name": "ipython",
    "version": 3
   },
   "file_extension": ".py",
   "mimetype": "text/x-python",
   "name": "python",
   "nbconvert_exporter": "python",
   "pygments_lexer": "ipython3",
   "version": "3.10.12"
  }
 },
 "nbformat": 4,
 "nbformat_minor": 5
}
