{
 "cells": [
  {
   "cell_type": "raw",
   "id": "b1e9def542b3595e",
   "metadata": {
    "collapsed": false
   },
   "source": [
    "Декодировать в строку байтовое значение: b'r\\xc3\\xa9sum\\xc3\\xa9'. Затем резултат преодразовать в \n",
    "байтовый вид в кодировке ‘Latin1’ затем резустат снова декодируем в строку (резултат всех преобразований выводить \n",
    "на экран) "
   ]
  },
  {
   "cell_type": "code",
   "execution_count": 1,
   "id": "3833f972245f6a1b",
   "metadata": {
    "ExecuteTime": {
     "end_time": "2023-11-14T17:32:12.478043Z",
     "start_time": "2023-11-14T17:32:12.433251645Z"
    },
    "collapsed": false
   },
   "outputs": [
    {
     "name": "stdout",
     "output_type": "stream",
     "text": [
      "résumé\n",
      "b'r\\xe9sum\\xe9'\n",
      "résumé\n"
     ]
    }
   ],
   "source": [
    "string = b\"r\\xc3\\xa9sum\\xc3\\xa9\"\n",
    "string = string.decode(\"utf-8\")\n",
    "print(string)\n",
    "string = string.encode(\"Latin1\")\n",
    "print(string)\n",
    "string = string.decode(\"latin1\")\n",
    "print(string)"
   ]
  },
  {
   "cell_type": "raw",
   "source": [
    "Ввести с клавиатуры 4 разные строки и сохранить их в 4 разных переменных.\n",
    "Создать файл и записать в него первые 2 строки и закрыть файл.затем открыть файл на редоктирование и \n",
    "дозаписать оставшиеся 2 строки. В файле должны быть 4 строки, каждая на отдельной строке."
   ],
   "metadata": {
    "collapsed": false
   },
   "id": "17ff294214ea3030"
  },
  {
   "cell_type": "code",
   "execution_count": null,
   "outputs": [],
   "source": [
    "str1 = \"Я помню чудное мгновенье:\\n\"\n",
    "str2 = \"Передо мной явилась ты,\\n\"\n",
    "str3 = \"Как мимолётное виденье\\n\"\n",
    "str4 = \"Как гений чистой красоты.\"\n",
    "\n",
    "with open(\"quatrain.txt\", \"w\", encoding=\"utf-8\", newline=\"\\n\") as file:\n",
    "    file.write(str1)\n",
    "    file.write(str2)\n",
    "\n",
    "with open(\"quatrain.txt\", \"a\", encoding=\"utf=8\", newline=\"\\n\") as file:\n",
    "    file.write(str3)\n",
    "    file.write(str4)"
   ],
   "metadata": {
    "collapsed": false
   },
   "id": "7d819e81b7b5ee8d"
  },
  {
   "cell_type": "raw",
   "source": [
    "Создать словарь в качестве ключа которого будет 6-ти значное число (id),\n",
    "а в качестве значений кортеж состоящий из 2-х елементов - имя(str), \n",
    "возраст(int).Создать около 5-6 елементов словаря. Записать данный словарь\n",
    "на диск и json-файл."
   ],
   "metadata": {
    "collapsed": false
   },
   "id": "d76c176fd6e5ac37"
  },
  {
   "cell_type": "code",
   "execution_count": 1,
   "outputs": [],
   "source": [
    "import json\n",
    "\n",
    "person = {111111: (\"Ivan\", 20),\n",
    "          222222: (\"Ira\",19),\n",
    "          333333: (\"Vova\", 40),\n",
    "          444444: (\"Nina\", 38),\n",
    "          555555: (\"Igor\", 15)}\n",
    "\n",
    "with open(\"person.json\", \"w\") as file:\n",
    "    json.dump(person, file, ensure_ascii=False, indent=4)\n"
   ],
   "metadata": {
    "collapsed": false,
    "ExecuteTime": {
     "end_time": "2023-11-14T18:17:49.275558904Z",
     "start_time": "2023-11-14T18:17:49.264394660Z"
    }
   },
   "id": "3bb3084ec36610be"
  },
  {
   "cell_type": "raw",
   "source": [
    "Прочитать сохраненный json-файл и записать данные на диск в csv-файл \n",
    "первой\n",
    "строкой которого озаглавив каждый столбец и добавив столбец \"телефон\"."
   ],
   "metadata": {
    "collapsed": false
   },
   "id": "96ea919cd1a16a1f"
  },
  {
   "cell_type": "code",
   "execution_count": null,
   "outputs": [],
   "source": [
    "import csv\n",
    "\n",
    "with open(\"person.json\", \"r\") as file_json:\n",
    "    person = json.load(file_json)\n",
    "\n",
    "person_phone = [99999999, 88888888, 77777777, 66666666, 55555555]\n",
    "\n",
    "with open(\"person.csv\", \"w\") as file_csv:\n",
    "    fieldnames = [\"id\", \"name\", \"age\", \"phone\"]\n",
    "    writer = csv.DictWriter(file_csv, fieldnames=fieldnames)\n",
    "    writer.writeheader()\n",
    "    for i, p in zip(person, person_phone):\n",
    "        writer.writerow({fieldnames[0]: i, fieldnames[1]: person[i][0],\n",
    "                         fieldnames[2]: person[i][1], fieldnames[3]: p})\n"
   ],
   "metadata": {
    "collapsed": false
   },
   "id": "90f82f565bd2cef9"
  },
  {
   "cell_type": "raw",
   "source": [
    "Прочитать созраненный csv-файл и сохранить данные ы excel- файл, \n",
    "кроме возроста - столбец с этими данными не нужен.\n",
    "Таблица должна выглядетьб как на примере."
   ],
   "metadata": {
    "collapsed": false
   },
   "id": "aaa5e6144d2129a4"
  },
  {
   "cell_type": "code",
   "execution_count": 1,
   "outputs": [
    {
     "ename": "FileNotFoundError",
     "evalue": "[Errno 2] No such file or directory: 'csv_file.csv'",
     "output_type": "error",
     "traceback": [
      "\u001B[0;31m---------------------------------------------------------------------------\u001B[0m",
      "\u001B[0;31mFileNotFoundError\u001B[0m                         Traceback (most recent call last)",
      "Cell \u001B[0;32mIn[1], line 6\u001B[0m\n\u001B[1;32m      3\u001B[0m wb \u001B[38;5;241m=\u001B[39m Workbook()\n\u001B[1;32m      4\u001B[0m ws \u001B[38;5;241m=\u001B[39m wb\u001B[38;5;241m.\u001B[39mactive\n\u001B[0;32m----> 6\u001B[0m \u001B[38;5;28;01mwith\u001B[39;00m \u001B[38;5;28;43mopen\u001B[39;49m\u001B[43m(\u001B[49m\u001B[38;5;124;43m'\u001B[39;49m\u001B[38;5;124;43mcsv_file.csv\u001B[39;49m\u001B[38;5;124;43m'\u001B[39;49m\u001B[43m,\u001B[49m\u001B[43m \u001B[49m\u001B[38;5;124;43m'\u001B[39;49m\u001B[38;5;124;43mr\u001B[39;49m\u001B[38;5;124;43m'\u001B[39;49m\u001B[43m)\u001B[49m \u001B[38;5;28;01mas\u001B[39;00m csv_file:\n\u001B[1;32m      7\u001B[0m     file_reader \u001B[38;5;241m=\u001B[39m csv\u001B[38;5;241m.\u001B[39mDictReader(csv_file)\n\u001B[1;32m      8\u001B[0m     \u001B[38;5;28;01mfor\u001B[39;00m i \u001B[38;5;129;01min\u001B[39;00m \u001B[38;5;28mrange\u001B[39m(\u001B[38;5;241m2\u001B[39m, \u001B[38;5;241m8\u001B[39m):\n",
      "File \u001B[0;32m~/PycharmProjects/Tech_Me_Skills/venv/lib/python3.10/site-packages/IPython/core/interactiveshell.py:308\u001B[0m, in \u001B[0;36m_modified_open\u001B[0;34m(file, *args, **kwargs)\u001B[0m\n\u001B[1;32m    301\u001B[0m \u001B[38;5;28;01mif\u001B[39;00m file \u001B[38;5;129;01min\u001B[39;00m {\u001B[38;5;241m0\u001B[39m, \u001B[38;5;241m1\u001B[39m, \u001B[38;5;241m2\u001B[39m}:\n\u001B[1;32m    302\u001B[0m     \u001B[38;5;28;01mraise\u001B[39;00m \u001B[38;5;167;01mValueError\u001B[39;00m(\n\u001B[1;32m    303\u001B[0m         \u001B[38;5;124mf\u001B[39m\u001B[38;5;124m\"\u001B[39m\u001B[38;5;124mIPython won\u001B[39m\u001B[38;5;124m'\u001B[39m\u001B[38;5;124mt let you open fd=\u001B[39m\u001B[38;5;132;01m{\u001B[39;00mfile\u001B[38;5;132;01m}\u001B[39;00m\u001B[38;5;124m by default \u001B[39m\u001B[38;5;124m\"\u001B[39m\n\u001B[1;32m    304\u001B[0m         \u001B[38;5;124m\"\u001B[39m\u001B[38;5;124mas it is likely to crash IPython. If you know what you are doing, \u001B[39m\u001B[38;5;124m\"\u001B[39m\n\u001B[1;32m    305\u001B[0m         \u001B[38;5;124m\"\u001B[39m\u001B[38;5;124myou can use builtins\u001B[39m\u001B[38;5;124m'\u001B[39m\u001B[38;5;124m open.\u001B[39m\u001B[38;5;124m\"\u001B[39m\n\u001B[1;32m    306\u001B[0m     )\n\u001B[0;32m--> 308\u001B[0m \u001B[38;5;28;01mreturn\u001B[39;00m \u001B[43mio_open\u001B[49m\u001B[43m(\u001B[49m\u001B[43mfile\u001B[49m\u001B[43m,\u001B[49m\u001B[43m \u001B[49m\u001B[38;5;241;43m*\u001B[39;49m\u001B[43margs\u001B[49m\u001B[43m,\u001B[49m\u001B[43m \u001B[49m\u001B[38;5;241;43m*\u001B[39;49m\u001B[38;5;241;43m*\u001B[39;49m\u001B[43mkwargs\u001B[49m\u001B[43m)\u001B[49m\n",
      "\u001B[0;31mFileNotFoundError\u001B[0m: [Errno 2] No such file or directory: 'csv_file.csv'"
     ]
    }
   ],
   "source": [
    "from openpyxl import Workbook\n",
    "\n",
    "wb = Workbook()\n",
    "ws = wb.active\n",
    "\n",
    "col_dict = {}\n",
    "\n",
    "with open(\"person.csv\", \"r\") as csv_file:\n",
    "    file_reader = csv.DictReader(csv_file)\n",
    "    for i in range(2, 7):\n",
    "        ws.cell(row=1, column=i).value = f\"Person {i - 1}\"\n",
    "    col_dict = {\"id\": [], \"name\": [], \"phone\": []}\n",
    "    for i in file_reader:\n",
    "        for j in i:\n",
    "            if j in col_dict:\n",
    "                col_dict[j].append(i[j])\n",
    "    print(col_dict)\n",
    "for i in col_dict:\n",
    "    ws.append([i] + col_dict[i])\n",
    "\n",
    "wb.save(\"person.xlsx\")\n"
   ],
   "metadata": {
    "collapsed": false,
    "ExecuteTime": {
     "end_time": "2023-11-18T10:56:44.723153355Z",
     "start_time": "2023-11-18T10:56:44.168184290Z"
    }
   },
   "id": "f284599cde57e592"
  }
 ],
 "metadata": {
  "kernelspec": {
   "display_name": "Python 3 (ipykernel)",
   "language": "python",
   "name": "python3"
  },
  "language_info": {
   "codemirror_mode": {
    "name": "ipython",
    "version": 3
   },
   "file_extension": ".py",
   "mimetype": "text/x-python",
   "name": "python",
   "nbconvert_exporter": "python",
   "pygments_lexer": "ipython3",
   "version": "3.10.12"
  }
 },
 "nbformat": 4,
 "nbformat_minor": 5
}
